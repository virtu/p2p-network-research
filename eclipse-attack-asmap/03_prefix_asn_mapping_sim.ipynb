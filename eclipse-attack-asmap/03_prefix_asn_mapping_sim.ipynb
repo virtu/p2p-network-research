{
 "cells": [
  {
   "attachments": {},
   "cell_type": "markdown",
   "metadata": {},
   "source": [
    "# Description"
   ]
  },
  {
   "attachments": {},
   "cell_type": "markdown",
   "metadata": {},
   "source": [
    "### Read annotated nodes data"
   ]
  },
  {
   "cell_type": "code",
   "execution_count": null,
   "metadata": {},
   "outputs": [],
   "source": [
    "import pandas as pd\n",
    "import os\n",
    "\n",
    "ANNOTATED_NODES_CSV = \"reachable-nodes-annotated-2023-05-07.csv\"\n",
    "\n",
    "assert os.path.exists(ANNOTATED_NODES_CSV), \"Annotated node data missing! Run 01_prep_input_data.ipynb to create.\"\n",
    "\n",
    "df = pd.read_csv(ANNOTATED_NODES_CSV)\n",
    "\n",
    "# address statistics\n",
    "num_ipv4 = sum(df.network == 'ipv4')\n",
    "num_ipv6 = sum(df.network == 'ipv6')\n",
    "num_ip = len(df)\n",
    "assert num_ipv4 + num_ipv6 == num_ip, \"Inconsistent dichotomy\"\n",
    "print(f'reachable nodes: ipv4={num_ipv4}, ipv6={num_ipv6}, ipv4/ipv6={num_ip}')\n",
    "\n",
    "# netgroup statistics\n",
    "ip_netgroups = df.netgroup.value_counts().values\n",
    "ipv4_netgroups = df[df.network == 'ipv4'].netgroup.value_counts().values\n",
    "ipv6_netgroups = df[df.network == 'ipv6'].netgroup.value_counts().values\n",
    "assert sum(ipv4_netgroups) + sum(ipv6_netgroups) + sum(ip_netgroups) == 2 * len(df), \"Inconsistent dichotomy!\"\n",
    "print(f'netgroups: ipv4={len(ipv4_netgroups)}, ipv6={len(ipv6_netgroups)}, ipv4/ipv6={len(ip_netgroups)}, total_addresses={sum(ip_netgroups)}')\n",
    "\n",
    "# asn statistics\n",
    "ip_asns = df.asn.value_counts().values\n",
    "ipv4_asns = df[df.network == 'ipv4'].asn.value_counts().values\n",
    "ipv6_asns = df[df.network == 'ipv6'].asn.value_counts().values\n",
    "assert sum(ipv4_asns) + sum(ipv6_asns) + sum(ip_asns) == 2 * len(df), \"Inconsistent dichotomy!\"\n",
    "print(f'asn: ipv4={len(ipv4_asns)}, ipv6={len(ipv6_asns)}, ipv4/ipv6={len(ip_asns)}, total_addresses={sum(ip_asns)}')"
   ]
  },
  {
   "attachments": {},
   "cell_type": "markdown",
   "metadata": {},
   "source": [
    "## Simulation of netgroup-asn mapping\n",
    "\n",
    "- Draw ten netgroups at random\n",
    "- Count number of unique ASN\n",
    "- Run Monte Carlo simulation"
   ]
  },
  {
   "cell_type": "code",
   "execution_count": null,
   "metadata": {},
   "outputs": [],
   "source": [
    "import numpy as np\n",
    "\n",
    "from tqdm.notebook import tqdm\n",
    "\n",
    "ip_netgroups = df.netgroup.value_counts().to_dict()\n",
    "\n",
    "netgroup_asn_map = pd.Series(df.asn.values,index=df.netgroup).to_dict()\n",
    "\n",
    "def count_unique_asn(netgroup_list):\n",
    "    unique_asn = {netgroup_asn_map[netgroup] for netgroup in netgroup_list}\n",
    "    return len(unique_asn)\n",
    "\n",
    "def monte_carlo(netgroups, num_draws: int = 10, iterations: int = 10000):\n",
    "    netgroup_names = list(netgroups.keys())\n",
    "    netgroup_sizes = np.array(list(netgroups.values()))\n",
    "    population = netgroup_names\n",
    "    size = num_draws\n",
    "    replace = False\n",
    "    p = netgroup_sizes/netgroup_sizes.sum()\n",
    "    result = []\n",
    "    for _ in tqdm(range(iterations)):\n",
    "        draw = np.random.choice(population, size, replace, p=p)\n",
    "        num_unique_asn = count_unique_asn(draw)\n",
    "        result.append(num_unique_asn)\n",
    "    return result\n",
    "\n",
    "params = {\n",
    "    'IPv4': df[df.network == 'ipv4'].netgroup.value_counts().to_dict(),\n",
    "    'IPv6': df[df.network == 'ipv6'].netgroup.value_counts().to_dict(),\n",
    "    'IPv4/IPv6': df.netgroup.value_counts().to_dict(),\n",
    "    }\n",
    "\n",
    "results = {}\n",
    "for label, data in params.items():\n",
    "    results[label] = monte_carlo(data)"
   ]
  },
  {
   "attachments": {},
   "cell_type": "markdown",
   "metadata": {},
   "source": [
    "### Plot"
   ]
  },
  {
   "cell_type": "code",
   "execution_count": null,
   "metadata": {},
   "outputs": [],
   "source": [
    "import seaborn as sns\n",
    "\n",
    "data = pd.DataFrame(results)\n",
    "data_melted = data.melt(var_name='label', value_name='Number of unique ASN')\n",
    "\n",
    "_ = sns.histplot(data=data_melted, x='Number of unique ASN', hue='label', discrete=True, shrink=0.4, multiple='dodge', stat='percent', common_norm=False, legend=True, edgecolor=None)"
   ]
  }
 ],
 "metadata": {
  "kernelspec": {
   "display_name": "base",
   "language": "python",
   "name": "python3"
  },
  "language_info": {
   "codemirror_mode": {
    "name": "ipython",
    "version": 3
   },
   "file_extension": ".py",
   "mimetype": "text/x-python",
   "name": "python",
   "nbconvert_exporter": "python",
   "pygments_lexer": "ipython3",
   "version": "3.11.3"
  },
  "vscode": {
   "interpreter": {
    "hash": "e7cb1b9ae4d417fedf7f40a8eec98f7cfbd359e096bd857395a915f4609834ce"
   }
  }
 },
 "nbformat": 4,
 "nbformat_minor": 4
}
