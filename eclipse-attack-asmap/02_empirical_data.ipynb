{
 "cells": [
  {
   "attachments": {},
   "cell_type": "markdown",
   "metadata": {},
   "source": [
    "# Visualize empirical data"
   ]
  },
  {
   "attachments": {},
   "cell_type": "markdown",
   "metadata": {},
   "source": [
    "### Read annotated nodes data"
   ]
  },
  {
   "cell_type": "code",
   "execution_count": null,
   "metadata": {},
   "outputs": [],
   "source": [
    "import pandas as pd\n",
    "import os\n",
    "\n",
    "ANNOTATED_NODES_CSV = \"reachable-nodes-annotated-2023-05-07.csv\"\n",
    "\n",
    "assert os.path.exists(ANNOTATED_NODES_CSV), \"Annotated node data missing! Run 01_prep_input_data.ipynb to create.\"\n",
    "\n",
    "df = pd.read_csv(ANNOTATED_NODES_CSV)\n",
    "\n",
    "# address statistics\n",
    "num_ipv4 = sum(df.network == 'ipv4')\n",
    "num_ipv6 = sum(df.network == 'ipv6')\n",
    "num_ip = len(df)\n",
    "assert num_ipv4 + num_ipv6 == num_ip, \"Inconsistent dichotomy\"\n",
    "print(f'reachable nodes: ipv4={num_ipv4}, ipv6={num_ipv6}, ipv4/ipv6={num_ip}')\n",
    "\n",
    "# netgroup statistics\n",
    "ip_netgroups = df.netgroup.value_counts().values\n",
    "ipv4_netgroups = df[df.network == 'ipv4'].netgroup.value_counts().values\n",
    "ipv6_netgroups = df[df.network == 'ipv6'].netgroup.value_counts().values\n",
    "assert sum(ipv4_netgroups) + sum(ipv6_netgroups) + sum(ip_netgroups) == 2 * len(df), \"Inconsistent dichotomy!\"\n",
    "print(f'netgroups: ipv4={len(ipv4_netgroups)}, ipv6={len(ipv6_netgroups)}, ipv4/ipv6={len(ip_netgroups)}, total_addresses={sum(ip_netgroups)}')\n",
    "\n",
    "# asn statistics\n",
    "ip_asns = df.asn.value_counts().values\n",
    "ipv4_asns = df[df.network == 'ipv4'].asn.value_counts().values\n",
    "ipv6_asns = df[df.network == 'ipv6'].asn.value_counts().values\n",
    "assert sum(ipv4_asns) + sum(ipv6_asns) + sum(ip_asns) == 2 * len(df), \"Inconsistent dichotomy!\"\n",
    "print(f'asn: ipv4={len(ipv4_asns)}, ipv6={len(ipv6_asns)}, ipv4/ipv6={len(ip_asns)}, total_addresses={sum(ip_asns)}')"
   ]
  },
  {
   "attachments": {},
   "cell_type": "markdown",
   "metadata": {},
   "source": [
    "## Analysis"
   ]
  },
  {
   "attachments": {},
   "cell_type": "markdown",
   "metadata": {},
   "source": [
    "### Top 30 buckets: IPv4 netgroup vs IPv6 netgroups"
   ]
  },
  {
   "cell_type": "code",
   "execution_count": null,
   "metadata": {},
   "outputs": [],
   "source": [
    "import seaborn as sns\n",
    "\n",
    "selection = 30\n",
    "df = pd.DataFrame({'IPv4': ipv4_netgroups[:selection], 'IPv6': ipv6_netgroups[:selection]})\n",
    "df = df.reset_index().melt('index') # melt into long format for seaborn\n",
    "\n",
    "g = sns.barplot(x='index', y='value', hue='variable', data=df, width=0.7, dodge=True)\n",
    "g.set_ylabel('Number of addresses')"
   ]
  },
  {
   "attachments": {},
   "cell_type": "markdown",
   "metadata": {},
   "source": [
    "### Top 30 buckets: Netgroup vs ASN"
   ]
  },
  {
   "cell_type": "code",
   "execution_count": null,
   "metadata": {},
   "outputs": [],
   "source": [
    "selection = 30\n",
    "df = pd.DataFrame({'Netgroup': ip_netgroups[:selection], 'ASN': ip_asns[:selection]})\n",
    "df = df.reset_index().melt('index') # melt into long format for seaborn\n",
    "\n",
    "g = sns.barplot(x='index', y='value', hue='variable', data=df, width=0.7, dodge=True)\n",
    "g.set_ylabel('Number of addresses')"
   ]
  },
  {
   "attachments": {},
   "cell_type": "markdown",
   "metadata": {},
   "source": [
    "### Reversed Lorenz curve: bucket share  vs. cumulative address share"
   ]
  },
  {
   "cell_type": "code",
   "execution_count": null,
   "metadata": {},
   "outputs": [],
   "source": [
    "import seaborn as sns\n",
    "import numpy as np\n",
    "\n",
    "def get_bucket_share_and_cum_addr_share(counts):\n",
    "    assert len(counts) > 1, \"Must have more than one element\"\n",
    "    cumulative_shares = np.cumsum(counts) / np.sum(counts)\n",
    "    positions = np.arange(len(counts)) / (len(counts) - 1)\n",
    "    return positions, cumulative_shares\n",
    "\n",
    "bshare1, cashare1 = get_bucket_share_and_cum_addr_share(ip_netgroups[::1])\n",
    "bshare2, cashare2 = get_bucket_share_and_cum_addr_share(ip_asns[::1])\n",
    "\n",
    "sns.lineplot(x=bshare1, y=cashare1, label='Netgroup')\n",
    "g = sns.lineplot(x=bshare2, y=cashare2, label='ASN')\n",
    "g.set_xlabel('Buckets share')\n",
    "g.set_ylabel('Cumulative address share')"
   ]
  }
 ],
 "metadata": {
  "kernelspec": {
   "display_name": "base",
   "language": "python",
   "name": "python3"
  },
  "language_info": {
   "codemirror_mode": {
    "name": "ipython",
    "version": 3
   },
   "file_extension": ".py",
   "mimetype": "text/x-python",
   "name": "python",
   "nbconvert_exporter": "python",
   "pygments_lexer": "ipython3",
   "version": "3.11.3"
  },
  "vscode": {
   "interpreter": {
    "hash": "e7cb1b9ae4d417fedf7f40a8eec98f7cfbd359e096bd857395a915f4609834ce"
   }
  }
 },
 "nbformat": 4,
 "nbformat_minor": 4
}
