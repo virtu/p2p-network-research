{
 "cells": [
  {
   "attachments": {},
   "cell_type": "markdown",
   "metadata": {},
   "source": [
    "# Prepare input data\n",
    "\n",
    "1. Read reachable nodes data (including IP address and network type)\n",
    "2. Annotate netgroups\n",
    "3. Annotate ASN\n",
    "4. Store nodes data with annotations"
   ]
  },
  {
   "attachments": {},
   "cell_type": "markdown",
   "metadata": {},
   "source": [
    "### Read nodes data"
   ]
  },
  {
   "cell_type": "code",
   "execution_count": null,
   "metadata": {},
   "outputs": [],
   "source": [
    "import pandas as pd\n",
    "\n",
    "df = pd.read_csv(\"reachable-nodes-2023-05-07.csv\")\n",
    "\n",
    "num_ipv4 = sum(df.network == 'ipv4')\n",
    "num_ipv6 = sum(df.network == 'ipv6')\n",
    "num_ip = len(df)\n",
    "assert num_ipv4 + num_ipv6 == num_ip, \"Inconsistent dichotomy\"\n",
    "\n",
    "print(f'reachable nodes: ipv4={num_ipv4}, ipv6={num_ipv6}, ipv4/ipv6={num_ip}')"
   ]
  },
  {
   "attachments": {},
   "cell_type": "markdown",
   "metadata": {},
   "source": [
    "### Annotate netgroups\n",
    "\n",
    "- For IPv4, always use /16\n",
    "- For IPv6, use /32 by default; /36 for Hurrican Electric (2001:470::/32)"
   ]
  },
  {
   "cell_type": "code",
   "execution_count": null,
   "metadata": {},
   "outputs": [],
   "source": [
    "import ipaddress\n",
    "\n",
    "def netgroup_from_addr(addr_str):\n",
    "    addr = ipaddress.ip_address(addr_str)\n",
    "    if isinstance(addr, ipaddress.IPv4Address):\n",
    "        return ipaddress.ip_interface(f'{addr}/16').network\n",
    "    if addr.exploded.startswith(\"2001:0470:\"):\n",
    "        return ipaddress.ip_interface(f'{addr}/36').network\n",
    "    return ipaddress.ip_interface(f'{addr}/32').network\n",
    "\n",
    "df['netgroup'] = df.address.apply(netgroup_from_addr)"
   ]
  },
  {
   "attachments": {},
   "cell_type": "markdown",
   "metadata": {},
   "source": [
    "### Annotate ASN\n",
    "\n",
    "- Uses ASMAP created with [Kartograf](https://github.com/fjahr/kartograf)"
   ]
  },
  {
   "cell_type": "code",
   "execution_count": null,
   "metadata": {},
   "outputs": [],
   "source": [
    "import bz2\n",
    "from tqdm import tqdm\n",
    "tqdm.pandas()\n",
    "\n",
    "def load_asmap(asmap_file):\n",
    "    asmap = []\n",
    "    with bz2.open(asmap_file) as f:\n",
    "        for line in f.readlines():\n",
    "            net, asn = line.decode('ascii').strip().split(' ')\n",
    "            network = ipaddress.ip_network(net)\n",
    "            netw = int(network.network_address)\n",
    "            mask = int(network.netmask)\n",
    "            asmap.append((netw, mask, asn))\n",
    "    return asmap\n",
    "\n",
    "def asn_from_addr(addr_str):\n",
    "    ip = ipaddress.ip_address(addr_str)\n",
    "    ip_int = int(ip)\n",
    "    for netw, mask, asn in asmap:\n",
    "        if (ip_int & mask) == netw:\n",
    "            return asn\n",
    "    return \"unknown\"\n",
    "\n",
    "asmap_filename = \"asmap-kartograf-2023-02-06.txt.bz2\"\n",
    "asmap = load_asmap(asmap_filename)\n",
    "\n",
    "df['asn'] = df.address.progress_apply(asn_from_addr)\n",
    "\n",
    "total, covered, missing = len(df), sum(df.asn != \"unknown\"), sum(df.asn == \"unknown\")\n",
    "print(f\"total={total}, covered={covered} ({100*covered/total:.1f}%), missing={missing} ({100*missing/total:.1f}%)\")\n",
    "assert missing/total < 0.002, \"Insufficient coverage by asmap\""
   ]
  },
  {
   "attachments": {},
   "cell_type": "markdown",
   "metadata": {},
   "source": [
    "### Store annotated data"
   ]
  },
  {
   "cell_type": "code",
   "execution_count": null,
   "metadata": {},
   "outputs": [],
   "source": [
    "ANNOTATED_NODES_CSV = \"reachable-nodes-annotated-2023-05-07.csv\"\n",
    "df.to_csv(ANNOTATED_NODES_CSV, index=False)"
   ]
  }
 ],
 "metadata": {
  "kernelspec": {
   "display_name": "base",
   "language": "python",
   "name": "python3"
  },
  "language_info": {
   "codemirror_mode": {
    "name": "ipython",
    "version": 3
   },
   "file_extension": ".py",
   "mimetype": "text/x-python",
   "name": "python",
   "nbconvert_exporter": "python",
   "pygments_lexer": "ipython3",
   "version": "3.11.3"
  },
  "vscode": {
   "interpreter": {
    "hash": "e7cb1b9ae4d417fedf7f40a8eec98f7cfbd359e096bd857395a915f4609834ce"
   }
  }
 },
 "nbformat": 4,
 "nbformat_minor": 4
}
