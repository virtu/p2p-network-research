{
 "cells": [
  {
   "attachments": {},
   "cell_type": "markdown",
   "metadata": {},
   "source": [
    "# Overview\n",
    "\n",
    "1. Read reachable node data (including IP address and network type)\n",
    "2. Annotate netgroups\n",
    "3. Annotate ASN from old and current ASMAP\n",
    "4. Identify ASN discrepancies"
   ]
  },
  {
   "attachments": {},
   "cell_type": "markdown",
   "metadata": {},
   "source": [
    "### Helper functions"
   ]
  },
  {
   "cell_type": "code",
   "execution_count": null,
   "metadata": {},
   "outputs": [],
   "source": [
    "import bz2\n",
    "import ipaddress\n",
    "import pandas as pd\n",
    "from tqdm import tqdm\n",
    "\n",
    "def load_node_data(date: str):\n",
    "    \"\"\"Load node data (node address and network type) from CSV.\"\"\"\n",
    "    df = pd.read_csv(f\"data/reachable-nodes-{date}.csv\")\n",
    "    num_ipv4 = sum(df.network == 'ipv4')\n",
    "    num_ipv6 = sum(df.network == 'ipv6')\n",
    "    num_ip = len(df)\n",
    "    assert num_ipv4 + num_ipv6 == num_ip, \"Inconsistent dichotomy\"\n",
    "    print(f'reachable nodes: ipv4={num_ipv4}, ipv6={num_ipv6}, ipv4/ipv6={num_ip}')\n",
    "    return df\n",
    "\n",
    "def load_asmap(date: str):\n",
    "    \"\"\"Read ASMAP data.\"\"\"\n",
    "    asmap = []\n",
    "    with bz2.open(f\"data/asmap-kartograf-{date}.txt.bz2\") as f:\n",
    "        for line in f.readlines():\n",
    "            net, asn = line.decode('ascii').strip().split(' ')\n",
    "            network = ipaddress.ip_network(net)\n",
    "            netw = int(network.network_address)\n",
    "            mask = int(network.netmask)\n",
    "            asmap.append((netw, mask, asn))\n",
    "    return asmap\n",
    "\n",
    "\n",
    "def addr_to_netgroup(addr_str: str):\n",
    "    \"\"\"Derive netgroup from IP address in line with strategy used in Bitcoin Core.\"\"\"\n",
    "    addr = ipaddress.ip_address(addr_str)\n",
    "    if isinstance(addr, ipaddress.IPv4Address):\n",
    "        return ipaddress.ip_interface(f'{addr}/16').network\n",
    "    if addr.exploded.startswith(\"2001:0470:\"):\n",
    "        return ipaddress.ip_interface(f'{addr}/36').network\n",
    "    return ipaddress.ip_interface(f'{addr}/32').network\n",
    "\n",
    "def addr_to_asn(addr_str: str, asmap):\n",
    "    \"\"\"Derive ASN from IP Address.\"\"\"\n",
    "    ip = ipaddress.ip_address(addr_str)\n",
    "    ip_int = int(ip)\n",
    "    for netw, mask, asn in asmap:\n",
    "        if (ip_int & mask) == netw:\n",
    "            return asn\n",
    "    return \"unknown\""
   ]
  },
  {
   "cell_type": "markdown",
   "metadata": {},
   "source": [
    "## Load node data, annotate netgroups and ASN (based on old and current ASMAPs)"
   ]
  },
  {
   "cell_type": "code",
   "execution_count": null,
   "metadata": {},
   "outputs": [],
   "source": [
    "now = \"2024-01-25\"\n",
    "old = \"2023-02-06\"\n",
    "\n",
    "df = load_node_data(now)\n",
    "tqdm.pandas(desc=\"annotating netgroups\"); df['netgroup'] = df.address.progress_apply(addr_to_netgroup)\n",
    "\n",
    "asmap_old = asmap = load_asmap(old)\n",
    "tqdm.pandas(desc=\"annotating ASN (old)\"); df['asn_old'] = df.address.progress_apply(addr_to_asn, args=(asmap_old,))\n",
    "\n",
    "asmap_now = asmap = load_asmap(now)\n",
    "tqdm.pandas(desc=\"annotating ASN (new)\"); df['asn_now'] = df.address.progress_apply(addr_to_asn, args=(asmap_now,))"
   ]
  },
  {
   "cell_type": "code",
   "execution_count": null,
   "metadata": {},
   "outputs": [],
   "source": [
    "changed = df[df['asn_old'] != df['asn_now']]\n",
    "num_changed, num_total = len(changed), len(df)\n",
    "ratio = num_changed/num_total\n",
    "print(f\"{num_changed} of {num_total} nodes have differing ASN (ratio={ratio*100:.1f}%)\")"
   ]
  }
 ],
 "metadata": {
  "kernelspec": {
   "display_name": "base",
   "language": "python",
   "name": "python3"
  },
  "language_info": {
   "codemirror_mode": {
    "name": "ipython",
    "version": 3
   },
   "file_extension": ".py",
   "mimetype": "text/x-python",
   "name": "python",
   "nbconvert_exporter": "python",
   "pygments_lexer": "ipython3",
   "version": "3.11.6"
  },
  "vscode": {
   "interpreter": {
    "hash": "e7cb1b9ae4d417fedf7f40a8eec98f7cfbd359e096bd857395a915f4609834ce"
   }
  }
 },
 "nbformat": 4,
 "nbformat_minor": 4
}
